{
 "cells": [
  {
   "cell_type": "markdown",
   "metadata": {},
   "source": [
    "> 根据廖雪峰教程整理"
   ]
  },
  {
   "cell_type": "code",
   "execution_count": 16,
   "metadata": {},
   "outputs": [],
   "source": [
    "%matplotlib inline"
   ]
  },
  {
   "cell_type": "markdown",
   "metadata": {},
   "source": [
    "# 安装git"
   ]
  },
  {
   "cell_type": "markdown",
   "metadata": {},
   "source": [
    "最早Git是在Linux上开发的，很长一段时间内，Git也只能在Linux和Unix系统上跑。不过，慢慢地有人把它移植到了Windows上。现在，Git可以在Linux、Unix、Mac和Windows这几大平台上正常运行了。\n",
    "\n",
    "要使用Git，第一步当然是安装Git了。根据你当前使用的平台来阅读下面的文字："
   ]
  },
  {
   "cell_type": "markdown",
   "metadata": {},
   "source": [
    "## 在Linux上安装Git"
   ]
  },
  {
   "cell_type": "markdown",
   "metadata": {},
   "source": [
    "首先，你可以试着输入git，看看系统有没有安装Git："
   ]
  },
  {
   "cell_type": "markdown",
   "metadata": {},
   "source": [
    "```bash\n",
    "$ git\n",
    "The program 'git' is currently not installed. You can install it by typing:\n",
    "sudo apt-get install git\n",
    "```"
   ]
  },
  {
   "cell_type": "markdown",
   "metadata": {},
   "source": [
    "像上面的命令，有很多Linux会友好地告诉你Git没有安装，还会告诉你如何安装Git。\n",
    "\n",
    "如果你碰巧用Debian或Ubuntu Linux，通过一条`sudo apt-get install git`就可以直接完成Git的安装，非常简单。\n",
    "\n",
    "老一点的Debian或Ubuntu Linux，要把命令改为`sudo apt-get install git-core`，因为以前有个软件也叫GIT（GNU Interactive Tools），结果Git就只能叫git-core了。由于Git名气实在太大，后来就把GNU Interactive Tools改成gnuit，git-core正式改为git。\n",
    "\n",
    "如果是其他Linux版本，可以直接通过源码安装。先从Git官网下载源码，然后解压，依次输入：`./config，make，sudo make install`这几个命令安装就好了。"
   ]
  },
  {
   "cell_type": "markdown",
   "metadata": {},
   "source": [
    "## 在Mac OS X上安装Git"
   ]
  },
  {
   "cell_type": "markdown",
   "metadata": {},
   "source": [
    "如果你正在使用Mac做开发，有两种安装Git的方法。\n",
    "\n",
    "一是安装homebrew，然后通过homebrew安装Git，具体方法请参考homebrew的文档：http://brew.sh/。\n",
    "\n",
    "第二种方法更简单，也是推荐的方法，就是直接从AppStore安装Xcode，Xcode集成了Git，不过默认没有安装，你需要运行Xcode，选择菜单“Xcode”->“Preferences”，在弹出窗口中找到“Downloads”，选择“Command Line Tools”，点“Install”就可以完成安装了。"
   ]
  },
  {
   "cell_type": "markdown",
   "metadata": {},
   "source": [
    "![](https://tva1.sinaimg.cn/large/008i3skNly1gse2g78bgqj30ou0i8k04.jpg)"
   ]
  },
  {
   "cell_type": "markdown",
   "metadata": {},
   "source": [
    "Xcode是Apple官方IDE，功能非常强大，是开发Mac和iOS App的必选装备，而且是免费的！"
   ]
  },
  {
   "cell_type": "markdown",
   "metadata": {},
   "source": [
    "## 在Windows上安装Git"
   ]
  },
  {
   "cell_type": "markdown",
   "metadata": {},
   "source": [
    "在Windows上使用Git，可以从Git官网直接下载安装程序，然后按默认选项安装即可。\n",
    "\n",
    "安装完成后，在开始菜单里找到“Git”->“Git Bash”，蹦出一个类似命令行窗口的东西，就说明Git安装成功！"
   ]
  },
  {
   "cell_type": "markdown",
   "metadata": {},
   "source": [
    "## 设置"
   ]
  },
  {
   "cell_type": "markdown",
   "metadata": {},
   "source": [
    "安装完成后，还需要最后一步设置，在命令行输入：\n",
    "```\n",
    "$ git config --global user.name \"Your Name\"\n",
    "$ git config --global user.email \"email@example.com\"\n",
    "```"
   ]
  },
  {
   "cell_type": "markdown",
   "metadata": {},
   "source": [
    "因为Git是分布式版本控制系统，所以，每个机器都必须自报家门：你的名字和Email地址。你也许会担心，如果有人故意冒充别人怎么办？这个不必担心，首先我们相信大家都是善良无知的群众，其次，真的有冒充的也是有办法可查的。\n",
    "\n",
    "注意git config命令的--global参数，用了这个参数，表示你这台机器上所有的Git仓库都会使用这个配置，当然也可以对某个仓库指定不同的用户名和Email地址。"
   ]
  },
  {
   "cell_type": "markdown",
   "metadata": {},
   "source": [
    "# 创建版本库"
   ]
  },
  {
   "cell_type": "markdown",
   "metadata": {},
   "source": [
    "什么是版本库呢？版本库又名仓库，英文名repository，你可以简单理解成一个目录，这个目录里面的所有文件都可以被Git管理起来，每个文件的修改、删除，Git都能跟踪，以便任何时刻都可以追踪历史，或者在将来某个时刻可以“还原”。\n",
    "\n",
    "所以，创建一个版本库非常简单，首先，选择一个合适的地方，创建一个空目录：\n",
    "```bash\n",
    "$ mkdir learngit\n",
    "$ cd learngit\n",
    "$ pwd\n",
    "/Users/michael/learngit\n",
    "```"
   ]
  },
  {
   "cell_type": "markdown",
   "metadata": {},
   "source": [
    "`pwd`命令用于显示当前目录。"
   ]
  },
  {
   "cell_type": "markdown",
   "metadata": {},
   "source": [
    "第二步，通过git init命令把这个目录变成Git可以管理的仓库：\n",
    "```bash\n",
    "$ git init\n",
    "Initialized empty Git repository in /Users/michael/learngit/.git/\n",
    "```"
   ]
  },
  {
   "cell_type": "markdown",
   "metadata": {},
   "source": [
    "瞬间Git就把仓库建好了，而且告诉你是一个空的仓库（empty Git repository），细心的读者可以发现当前目录下多了一个.git的目录，这个目录是Git来跟踪管理版本库的，没事千万不要手动修改这个目录里面的文件，不然改乱了，就把Git仓库给破坏了。\n",
    "\n",
    "如果你没有看到.git目录，那是因为这个目录默认是隐藏的，用`ls -ah`命令就可以看见。"
   ]
  },
  {
   "cell_type": "markdown",
   "metadata": {},
   "source": [
    "[观看视频](https://www.bilibili.com/video/av51215681?zw)"
   ]
  },
  {
   "cell_type": "code",
   "execution_count": 3,
   "metadata": {},
   "outputs": [
    {
     "data": {
      "text/html": [
       "\n",
       "        <iframe\n",
       "            width=\"800\"\n",
       "            height=\"450\"\n",
       "            src=\"https://www.bilibili.com/video/av51215681?zw\"\n",
       "            frameborder=\"0\"\n",
       "            allowfullscreen\n",
       "        ></iframe>\n",
       "        "
      ],
      "text/plain": [
       "<IPython.lib.display.IFrame at 0x7ffe876bc5e0>"
      ]
     },
     "execution_count": 3,
     "metadata": {},
     "output_type": "execute_result"
    }
   ],
   "source": [
    "#Note that http urls will not be displayed. Only https are allowed inside the Iframe\n",
    "from IPython.display import IFrame\n",
    "IFrame('https://www.bilibili.com/video/av51215681?zw', width=800, height=450)"
   ]
  },
  {
   "cell_type": "markdown",
   "metadata": {},
   "source": [
    "也不一定必须在空目录下创建Git仓库，选择一个已经有东西的目录也是可以的。不过，不建议你使用自己正在开发的公司项目来学习Git，否则造成的一切后果概不负责。"
   ]
  },
  {
   "cell_type": "markdown",
   "metadata": {},
   "source": [
    "## 把文件添加到版本库"
   ]
  },
  {
   "cell_type": "markdown",
   "metadata": {},
   "source": [
    "首先这里再明确一下，所有的版本控制系统，其实只能跟踪文本文件的改动，比如TXT文件，网页，所有的程序代码等等，Git也不例外。版本控制系统可以告诉你每次的改动，比如在第5行加了一个单词“Linux”，在第8行删了一个单词“Windows”。而图片、视频这些二进制文件，虽然也能由版本控制系统管理，但没法跟踪文件的变化，只能把二进制文件每次改动串起来，也就是只知道图片从100KB改成了120KB，但到底改了啥，版本控制系统不知道，也没法知道。\n",
    "\n",
    "不幸的是，Microsoft的Word格式是二进制格式，因此，版本控制系统是没法跟踪Word文件的改动的，前面我们举的例子只是为了演示，如果要真正使用版本控制系统，就要以纯文本方式编写文件。\n",
    "\n",
    "因为文本是有编码的，比如中文有常用的GBK编码，日文有Shift_JIS编码，如果没有历史遗留问题，强烈建议使用标准的UTF-8编码，所有语言使用同一种编码，既没有冲突，又被所有平台所支持。"
   ]
  },
  {
   "cell_type": "markdown",
   "metadata": {},
   "source": [
    "> 使用Windows的童鞋要特别注意：\n",
    "\n",
    ">千万不要使用Windows自带的记事本编辑任何文本文件。原因是Microsoft开发记事本的团队使用了一个非常弱智的行为来保存UTF-8编码的文件，他们自作聪明地在每个文件开头添加了0xefbbbf（十六进制）的字符，你会遇到很多不可思议的问题，比如，网页第一行可能会显示一个“?”，明明正确的程序一编译就报语法错误，等等，都是由记事本的弱智行为带来的。建议你下载Visual Studio Code代替记事本，不但功能强大，而且免费！"
   ]
  },
  {
   "cell_type": "markdown",
   "metadata": {},
   "source": [
    "言归正传，现在我们编写一个readme.txt文件，内容如下：\n",
    "```bash\n",
    "Git is a version control system.\n",
    "Git is free software.\n",
    "```"
   ]
  },
  {
   "cell_type": "markdown",
   "metadata": {},
   "source": [
    "一定要放到learngit目录下（子目录也行），因为这是一个Git仓库，放到其他地方Git再厉害也找不到这个文件。\n",
    "\n",
    "和把大象放到冰箱需要3步相比，把一个文件放到Git仓库只需要两步。"
   ]
  },
  {
   "cell_type": "markdown",
   "metadata": {},
   "source": [
    "### git add"
   ]
  },
  {
   "cell_type": "markdown",
   "metadata": {},
   "source": [
    "第一步，用命令`git add`告诉Git，把文件添加到仓库：\n",
    "```bash\n",
    "$ git add readme.txt\n",
    "```"
   ]
  },
  {
   "cell_type": "markdown",
   "metadata": {},
   "source": [
    "### git commit"
   ]
  },
  {
   "cell_type": "markdown",
   "metadata": {},
   "source": [
    "执行上面的命令，没有任何显示，这就对了，Unix的哲学是“没有消息就是好消息”，说明添加成功。\n",
    "\n",
    "第二步，用命令`git commit`告诉Git，把文件提交到仓库：\n",
    "```bash\n",
    "$ git commit -m \"wrote a readme file\"\n",
    "[master (root-commit) eaadf4e] wrote a readme file\n",
    " 1 file changed, 2 insertions(+)\n",
    " create mode 100644 readme.txt\n",
    "```"
   ]
  },
  {
   "cell_type": "markdown",
   "metadata": {},
   "source": [
    "简单解释一下`git commit`命令，`-m`后面输入的是本次提交的说明，可以输入任意内容，当然最好是有意义的，这样你就能从历史记录里方便地找到改动记录。\n",
    "\n",
    "嫌麻烦不想输入`-m \"xxx\"`行不行？确实有办法可以这么干，但是强烈不建议你这么干，因为输入说明对自己对别人阅读都很重要。实在不想输入说明的童鞋请自行Google，我不告诉你这个参数。\n",
    "\n",
    "`git commit`命令执行成功后会告诉你，1 file changed：1个文件被改动（我们新添加的readme.txt文件）；2 insertions：插入了两行内容（readme.txt有两行内容）。"
   ]
  },
  {
   "cell_type": "code",
   "execution_count": 74,
   "metadata": {},
   "outputs": [
    {
     "data": {
      "text/html": [
       "\n",
       "        <iframe\n",
       "            width=\"800\"\n",
       "            height=\"450\"\n",
       "            src=\"https://www.bilibili.com/video/av51215739?zw\"\n",
       "            frameborder=\"0\"\n",
       "            allowfullscreen\n",
       "        ></iframe>\n",
       "        "
      ],
      "text/plain": [
       "<IPython.lib.display.IFrame at 0x7ffe8e63e730>"
      ]
     },
     "execution_count": 74,
     "metadata": {},
     "output_type": "execute_result"
    }
   ],
   "source": [
    "IFrame(\"https://www.bilibili.com/video/av51215739?zw\", width=800, height=450)"
   ]
  },
  {
   "cell_type": "markdown",
   "metadata": {},
   "source": [
    "为什么Git添加文件需要add，commit一共两步呢？因为commit可以一次提交很多文件，所以你可以多次add不同的文件，比如：\n",
    "```bash\n",
    "$ git add file1.txt\n",
    "$ git add file2.txt file3.txt\n",
    "$ git commit -m \"add 3 files.\"\n",
    "```"
   ]
  },
  {
   "cell_type": "markdown",
   "metadata": {},
   "source": [
    "## 疑难解答"
   ]
  },
  {
   "cell_type": "markdown",
   "metadata": {},
   "source": [
    "Q：输入`git add readme.txt`，得到错误：fatal: not a git repository (or any of the parent directories)。\n",
    "\n",
    "A：Git命令必须在Git仓库目录内执行（git init除外），在仓库目录外执行是没有意义的。\n",
    "\n",
    "Q：输入`git add readme.txt`，得到错误fatal: pathspec 'readme.txt' did not match any files。\n",
    "\n",
    "A：添加某个文件时，该文件必须在当前目录下存在，用ls或者dir命令查看当前目录的文件，看看文件是否存在，或者是否写错了文件名。"
   ]
  },
  {
   "cell_type": "markdown",
   "metadata": {},
   "source": [
    "## 小结"
   ]
  },
  {
   "cell_type": "markdown",
   "metadata": {},
   "source": [
    "现在总结一下今天学的两点内容：\n",
    "\n",
    "初始化一个Git仓库，使用git init命令。\n",
    "\n",
    "添加文件到Git仓库，分两步：\n",
    "\n",
    "1. 使用命令`git add` <file>，注意，可反复多次使用，添加多个文件；\n",
    "2. 使用命令`git commit -m` <message>，完成。"
   ]
  },
  {
   "cell_type": "markdown",
   "metadata": {},
   "source": [
    "# 时光穿梭机"
   ]
  },
  {
   "cell_type": "markdown",
   "metadata": {},
   "source": [
    "我们已经成功地添加并提交了一个readme.txt文件，现在，是时候继续工作了，于是，我们继续修改readme.txt文件，改成如下内容：\n",
    "```bash\n",
    "Git is a distributed version control system.\n",
    "Git is free software.\n",
    "```"
   ]
  },
  {
   "cell_type": "markdown",
   "metadata": {},
   "source": [
    "现在，运行`git status`命令看看结果：\n",
    "```bash\n",
    "$ git status\n",
    "On branch master\n",
    "Changes not staged for commit:\n",
    "  (use \"git add <file>...\" to update what will be committed)\n",
    "  (use \"git checkout -- <file>...\" to discard changes in working directory)\n",
    "\n",
    "\tmodified:   readme.txt\n",
    "\n",
    "no changes added to commit (use \"git add\" and/or \"git commit -a\")\n",
    "```"
   ]
  },
  {
   "cell_type": "markdown",
   "metadata": {},
   "source": [
    "`git status`命令可以让我们时刻掌握仓库当前的状态，上面的命令输出告诉我们，readme.txt被修改过了，但还没有准备提交的修改。\n",
    "```bash\n",
    "$ git status\n",
    "On branch master\n",
    "Changes not staged for commit:\n",
    "  (use \"git add <file>...\" to update what will be committed)\n",
    "  (use \"git checkout -- <file>...\" to discard changes in working directory)\n",
    "\n",
    "\tmodified:   readme.txt\n",
    "\n",
    "no changes added to commit (use \"git add\" and/or \"git commit -a\")\n",
    "```"
   ]
  },
  {
   "cell_type": "markdown",
   "metadata": {},
   "source": [
    "`git status`命令可以让我们时刻掌握仓库当前的状态，上面的命令输出告诉我们，readme.txt被修改过了，但还没有准备提交的修改。\n",
    "\n",
    "虽然Git告诉我们readme.txt被修改了，但如果能看看具体修改了什么内容，自然是很好的。比如你休假两周从国外回来，第一天上班时，已经记不清上次怎么修改的readme.txt，所以，需要用`git diff`这个命令看看：\n",
    "```bash\n",
    "$ git diff readme.txt \n",
    "diff --git a/readme.txt b/readme.txt\n",
    "index 46d49bf..9247db6 100644\n",
    "--- a/readme.txt\n",
    "+++ b/readme.txt\n",
    "@@ -1,2 +1,2 @@\n",
    "-Git is a version control system.\n",
    "+Git is a distributed version control system.\n",
    " Git is free software.\n",
    "```"
   ]
  },
  {
   "cell_type": "markdown",
   "metadata": {},
   "source": [
    "`git diff`顾名思义就是查看difference，显示的格式正是Unix通用的`diff`格式，可以从上面的命令输出看到，我们在第一行添加了一个distributed单词。\n",
    "\n",
    "知道了对readme.txt作了什么修改后，再把它提交到仓库就放心多了，提交修改和提交新文件是一样的两步，第一步是`git add`：\n",
    "```bash\n",
    "$ git add readme.txt\n",
    "```"
   ]
  },
  {
   "cell_type": "markdown",
   "metadata": {},
   "source": [
    "同样没有任何输出。在执行第二步git commit之前，我们再运行git status看看当前仓库的状态：\n",
    "```bash\n",
    "$ git status\n",
    "On branch master\n",
    "Changes to be committed:\n",
    "  (use \"git reset HEAD <file>...\" to unstage)\n",
    "  \n",
    "  modified:   readme.txt\n",
    "```"
   ]
  },
  {
   "cell_type": "markdown",
   "metadata": {},
   "source": [
    "Git告诉我们当前没有需要提交的修改，而且，工作目录是干净（working tree clean）的。"
   ]
  },
  {
   "cell_type": "code",
   "execution_count": 77,
   "metadata": {},
   "outputs": [
    {
     "data": {
      "text/html": [
       "\n",
       "        <iframe\n",
       "            width=\"800\"\n",
       "            height=\"450\"\n",
       "            src=\"https://www.bilibili.com/video/av51227082?zw\"\n",
       "            frameborder=\"0\"\n",
       "            allowfullscreen\n",
       "        ></iframe>\n",
       "        "
      ],
      "text/plain": [
       "<IPython.lib.display.IFrame at 0x7ffe8e747d90>"
      ]
     },
     "execution_count": 77,
     "metadata": {},
     "output_type": "execute_result"
    }
   ],
   "source": [
    "IFrame(\"https://www.bilibili.com/video/av51227082?zw\", width=800, height=450)"
   ]
  },
  {
   "cell_type": "markdown",
   "metadata": {},
   "source": [
    "## 小结"
   ]
  },
  {
   "cell_type": "markdown",
   "metadata": {},
   "source": [
    "* 要随时掌握工作区的状态，使用git status命令。\n",
    "* 如果git status告诉你有文件被修改过，用git diff可以查看修改内容。"
   ]
  },
  {
   "cell_type": "markdown",
   "metadata": {},
   "source": [
    "## 版本回退"
   ]
  },
  {
   "cell_type": "markdown",
   "metadata": {},
   "source": [
    "现在，你已经学会了修改文件，然后把修改提交到Git版本库，现在，再练习一次，修改readme.txt文件如下：\n",
    "```bash\n",
    "Git is a distributed version control system.\n",
    "Git is free software distributed under the GPL.\n",
    "```"
   ]
  },
  {
   "cell_type": "markdown",
   "metadata": {},
   "source": [
    "然后尝试提交：\n",
    "```bash\n",
    "$ git add readme.txt\n",
    "$ git commit -m \"append GPL\"\n",
    "[master 1094adb] append GPL\n",
    " 1 file changed, 1 insertion(+), 1 deletion(-)\n",
    "```\n",
    "\n",
    "像这样，你不断对文件进行修改，然后不断提交修改到版本库里，就好比玩RPG游戏时，每通过一关就会自动把游戏状态存盘，如果某一关没过去，你还可以选择读取前一关的状态。有些时候，在打Boss之前，你会手动存盘，以便万一打Boss失败了，可以从最近的地方重新开始。Git也是一样，每当你觉得文件修改到一定程度的时候，就可以“保存一个快照”，这个快照在Git中被称为commit。一旦你把文件改乱了，或者误删了文件，还可以从最近的一个commit恢复，然后继续工作，而不是把几个月的工作成果全部丢失。\n",
    "\n",
    "现在，我们回顾一下readme.txt文件一共有几个版本被提交到Git仓库里了：\n",
    "\n",
    "版本1：wrote a readme file\n",
    "```bash\n",
    "Git is a version control system.\n",
    "Git is free software.\n",
    "```\n",
    "版本2：add distributed\n",
    "```bash\n",
    "Git is a distributed version control system.\n",
    "Git is free software.\n",
    "```\n",
    "版本3：append GPL\n",
    "\n",
    "```bash\n",
    "Git is a distributed version control system.\n",
    "Git is free software distributed under the GPL.\n",
    "```"
   ]
  },
  {
   "cell_type": "markdown",
   "metadata": {},
   "source": [
    "### git log"
   ]
  },
  {
   "cell_type": "markdown",
   "metadata": {},
   "source": [
    "当然了，在实际工作中，我们脑子里怎么可能记得一个几千行的文件每次都改了什么内容，不然要版本控制系统干什么。版本控制系统肯定有某个命令可以告诉我们历史记录，在Git中，我们用`git log`命令查看：\n",
    "```bash\n",
    "$ git log\n",
    "commit 1094adb7b9b3807259d8cb349e7df1d4d6477073 (HEAD -> master)\n",
    "Author: Michael Liao <askxuefeng@gmail.com>\n",
    "Date:   Fri May 18 21:06:15 2018 +0800\n",
    "\n",
    "    append GPL\n",
    "\n",
    "commit e475afc93c209a690c39c13a46716e8fa000c366\n",
    "Author: Michael Liao <askxuefeng@gmail.com>\n",
    "Date:   Fri May 18 21:03:36 2018 +0800\n",
    "\n",
    "    add distributed\n",
    "\n",
    "commit eaadf4e385e865d25c48e7ca9c8395c3f7dfaef0\n",
    "Author: Michael Liao <askxuefeng@gmail.com>\n",
    "Date:   Fri May 18 20:59:18 2018 +0800\n",
    "\n",
    "    wrote a readme file\n",
    "```"
   ]
  },
  {
   "cell_type": "markdown",
   "metadata": {},
   "source": [
    "`git log`命令显示从最近到最远的提交日志，我们可以看到3次提交，最近的一次是append GPL，上一次是add distributed，最早的一次是wrote a readme file。\n",
    "\n",
    "如果嫌输出信息太多，看得眼花缭乱的，可以试试加上`--pretty=oneline`参数：\n",
    "```bash\n",
    "$ git log --pretty=oneline\n",
    "1094adb7b9b3807259d8cb349e7df1d4d6477073 (HEAD -> master) append GPL\n",
    "e475afc93c209a690c39c13a46716e8fa000c366 add distributed\n",
    "eaadf4e385e865d25c48e7ca9c8395c3f7dfaef0 wrote a readme file\n",
    "```"
   ]
  },
  {
   "cell_type": "markdown",
   "metadata": {},
   "source": [
    "需要友情提示的是，你看到的一大串类似`1094adb...`的是`commit id`（版本号），和SVN不一样，Git的`commit id`不是1，2，3……递增的数字，而是一个SHA1计算出来的一个非常大的数字，用十六进制表示，而且你看到的commit id和我的肯定不一样，以你自己的为准。为什么`commit id`需要用这么一大串数字表示呢？因为Git是分布式的版本控制系统，后面我们还要研究多人在同一个版本库里工作，如果大家都用1，2，3……作为版本号，那肯定就冲突了。\n",
    "\n",
    "每提交一个新版本，实际上Git就会把它们自动串成一条时间线。如果使用可视化工具查看Git历史，就可以更清楚地看到提交历史的时间线："
   ]
  },
  {
   "cell_type": "markdown",
   "metadata": {},
   "source": [
    "![](https://tva1.sinaimg.cn/large/008i3skNly1gse9e0zodcj30os0ayqbe.jpg)"
   ]
  },
  {
   "cell_type": "markdown",
   "metadata": {},
   "source": [
    "### git reset"
   ]
  },
  {
   "cell_type": "markdown",
   "metadata": {},
   "source": [
    "好了，现在我们启动时光穿梭机，准备把readme.txt回退到上一个版本，也就是`add distributed`的那个版本，怎么做呢？\n",
    "\n",
    "首先，Git必须知道当前版本是哪个版本，在Git中，用HEAD表示当前版本，也就是最新的提交`1094adb...`（注意我的提交ID和你的肯定不一样），上一个版本就是HEAD^，上上一个版本就是HEAD^^，当然往上100个版本写100个^比较容易数不过来，所以写成HEAD~100。\n",
    "\n",
    "现在，我们要把当前版本`append GPL`回退到上一个版本`add distributed`，就可以使用`git reset`命令：\n",
    "```bash\n",
    "$ git reset --hard HEAD^\n",
    "HEAD is now at e475afc add distributed\n",
    "```\n",
    "--hard参数有啥意义？这个后面再讲，现在你先放心使用。\n",
    "\n",
    "\n",
    "看看readme.txt的内容是不是版本add distributed：\n",
    "```bash\n",
    "$ cat readme.txt\n",
    "Git is a distributed version control system.\n",
    "Git is free software.\n",
    "```"
   ]
  },
  {
   "cell_type": "markdown",
   "metadata": {},
   "source": [
    "果然被还原了。\n",
    "\n",
    "还可以继续回退到上一个版本wrote a readme file，不过且慢，让我们用g`it log`再看看现在版本库的状态：\n",
    "```bash\n",
    "$ git log\n",
    "commit e475afc93c209a690c39c13a46716e8fa000c366 (HEAD -> master)\n",
    "Author: Michael Liao <askxuefeng@gmail.com>\n",
    "Date:   Fri May 18 21:03:36 2018 +0800\n",
    "\n",
    "    add distributed\n",
    "\n",
    "commit eaadf4e385e865d25c48e7ca9c8395c3f7dfaef0\n",
    "Author: Michael Liao <askxuefeng@gmail.com>\n",
    "Date:   Fri May 18 20:59:18 2018 +0800\n",
    "\n",
    "    wrote a readme file\n",
    "```"
   ]
  },
  {
   "cell_type": "markdown",
   "metadata": {},
   "source": [
    "最新的那个版本append GPL已经看不到了！好比你从21世纪坐时光穿梭机来到了19世纪，想再回去已经回不去了，肿么办？\n",
    "\n",
    "办法其实还是有的，只要上面的命令行窗口还没有被关掉，你就可以顺着往上找啊找啊，找到那个append GPL的commit id是1094adb...，于是就可以指定回到未来的某个版本：\n",
    "```bash\n",
    "$ git reset --hard 1094a\n",
    "HEAD is now at 83b0afe append GPL\n",
    "```\n",
    "版本号没必要写全，前几位就可以了，Git会自动去找。当然也不能只写前一两位，因为Git可能会找到多个版本号，就无法确定是哪一个了。\n",
    "\n",
    "再小心翼翼地看看readme.txt的内容：\n",
    "```bash\n",
    "$ cat readme.txt\n",
    "Git is a distributed version control system.\n",
    "Git is free software distributed under the GPL.\n",
    "```"
   ]
  },
  {
   "cell_type": "markdown",
   "metadata": {},
   "source": [
    "果然，我胡汉三又回来了。\n",
    "\n",
    "Git的版本回退速度非常快，因为Git在内部有个指向当前版本的HEAD指针，当你回退版本的时候，Git仅仅是把HEAD从指向append GPL："
   ]
  },
  {
   "cell_type": "markdown",
   "metadata": {},
   "source": [
    "![](https://tva1.sinaimg.cn/large/008i3skNly1gse9mfhjnej31gc07k74p.jpg)"
   ]
  },
  {
   "cell_type": "markdown",
   "metadata": {},
   "source": [
    "改为指向add distributed："
   ]
  },
  {
   "cell_type": "markdown",
   "metadata": {},
   "source": [
    "![](https://tva1.sinaimg.cn/large/008i3skNly1gse9nfpp50j31k007amxl.jpg)"
   ]
  },
  {
   "cell_type": "markdown",
   "metadata": {},
   "source": [
    "然后顺便把工作区的文件更新了。所以你让HEAD指向哪个版本号，你就把当前版本定位在哪。"
   ]
  },
  {
   "cell_type": "markdown",
   "metadata": {},
   "source": [
    "### git reflog"
   ]
  },
  {
   "cell_type": "markdown",
   "metadata": {},
   "source": [
    "现在，你回退到了某个版本，关掉了电脑，第二天早上就后悔了，想恢复到新版本怎么办？找不到新版本的commit id怎么办？\n",
    "\n",
    "在Git中，总是有后悔药可以吃的。当你用`$ git reset --hard HEAD^`回退到add distributed版本时，再想恢复到append GPL，就必须找到append GPL的`commit id`。Git提供了一个命令`git reflog`用来记录你的每一次命令：\n",
    "```bash\n",
    "$ git reflog\n",
    "e475afc HEAD@{1}: reset: moving to HEAD^\n",
    "1094adb (HEAD -> master) HEAD@{2}: commit: append GPL\n",
    "e475afc HEAD@{3}: commit: add distributed\n",
    "eaadf4e HEAD@{4}: commit (initial): wrote a readme file\n",
    "```"
   ]
  },
  {
   "cell_type": "markdown",
   "metadata": {},
   "source": [
    "终于舒了口气，从输出可知，`append GPL`的`commit id`是`1094adb`，现在，你又可以乘坐时光机回到未来了。"
   ]
  },
  {
   "cell_type": "code",
   "execution_count": 82,
   "metadata": {},
   "outputs": [
    {
     "data": {
      "text/html": [
       "\n",
       "        <iframe\n",
       "            width=\"800\"\n",
       "            height=\"450\"\n",
       "            src=\"https://www.bilibili.com/video/av51227163?zw\"\n",
       "            frameborder=\"0\"\n",
       "            allowfullscreen\n",
       "        ></iframe>\n",
       "        "
      ],
      "text/plain": [
       "<IPython.lib.display.IFrame at 0x7ffe8edebb80>"
      ]
     },
     "execution_count": 82,
     "metadata": {},
     "output_type": "execute_result"
    }
   ],
   "source": [
    "IFrame(\"https://www.bilibili.com/video/av51227163?zw\", width=800, height=450)"
   ]
  },
  {
   "cell_type": "markdown",
   "metadata": {},
   "source": [
    "### 小结"
   ]
  },
  {
   "cell_type": "markdown",
   "metadata": {},
   "source": [
    "现在总结一下：\n",
    "\n",
    "HEAD指向的版本就是当前版本，因此，Git允许我们在版本的历史之间穿梭，使用命令`git reset --hard commit_id`。\n",
    "\n",
    "穿梭前，用`git log`可以查看提交历史，以便确定要回退到哪个版本。\n",
    "\n",
    "要重返未来，用`git reflog`查看命令历史，以便确定要回到未来的哪个版本。"
   ]
  },
  {
   "cell_type": "markdown",
   "metadata": {},
   "source": [
    "## 工作区和暂存区"
   ]
  },
  {
   "cell_type": "markdown",
   "metadata": {},
   "source": [
    "Git和其他版本控制系统如SVN的一个不同之处就是有暂存区的概念。"
   ]
  },
  {
   "cell_type": "markdown",
   "metadata": {},
   "source": [
    "先来看名词解释。"
   ]
  },
  {
   "cell_type": "markdown",
   "metadata": {},
   "source": [
    "### 工作区（Working Directory）"
   ]
  },
  {
   "cell_type": "markdown",
   "metadata": {},
   "source": [
    "就是你在电脑里能看到的目录，比如我的learngit文件夹就是一个工作区："
   ]
  },
  {
   "cell_type": "markdown",
   "metadata": {},
   "source": [
    "![](https://tva1.sinaimg.cn/large/008i3skNly1gsea4byl22j31kk0giafm.jpg)"
   ]
  },
  {
   "cell_type": "markdown",
   "metadata": {},
   "source": [
    "### 版本库（Repository）"
   ]
  },
  {
   "cell_type": "markdown",
   "metadata": {},
   "source": [
    "工作区有一个隐藏目录`.git`，这个不算工作区，而是Git的版本库。\n",
    "\n",
    "Git的版本库里存了很多东西，其中最重要的就是称为`stage`（或者叫`index`）的暂存区，还有Git为我们自动创建的第一个分支`master`，以及指向`master`的一个指针叫`HEAD`。"
   ]
  },
  {
   "cell_type": "markdown",
   "metadata": {},
   "source": [
    "![](https://tva1.sinaimg.cn/large/008i3skNly1gsea5o1dn8j31ks0emaer.jpg)"
   ]
  },
  {
   "cell_type": "markdown",
   "metadata": {},
   "source": [
    "分支和HEAD的概念我们以后再讲。\n",
    "\n",
    "前面讲了我们把文件往Git版本库里添加的时候，是分两步执行的：\n",
    "\n",
    "第一步是用`git add`把文件添加进去，实际上就是把文件修改添加到暂存区；\n",
    "\n",
    "第二步是用`git commit`提交更改，实际上就是把暂存区的所有内容提交到当前分支。\n",
    "\n",
    "因为我们创建`Git`版本库时，`Git`自动为我们创建了唯一一个`master`分支，所以，现在，`git commit`就是往`master`分支上提交更改。\n",
    "\n",
    "你可以简单理解为，需要提交的文件修改通通放到暂存区，然后，一次性提交暂存区的所有修改。\n",
    "\n",
    "俗话说，实践出真知。现在，我们再练习一遍，先对`readme.txt`做个修改，比如加上一行内容：\n",
    "```bash\n",
    "Git is a distributed version control system.\n",
    "Git is free software distributed under the GPL.\n",
    "Git has a mutable index called stage.\n",
    "```"
   ]
  },
  {
   "cell_type": "markdown",
   "metadata": {},
   "source": [
    "然后，在工作区新增一个LICENSE文本文件（内容随便写）。\n",
    "\n",
    "先用`git status`查看一下状态：\n",
    "```bash\n",
    "$ git status\n",
    "On branch master\n",
    "Changes not staged for commit:\n",
    "  (use \"git add <file>...\" to update what will be committed)\n",
    "  (use \"git checkout -- <file>...\" to discard changes in working directory)\n",
    "\n",
    "\tmodified:   readme.txt\n",
    "\n",
    "Untracked files:\n",
    "  (use \"git add <file>...\" to include in what will be committed)\n",
    "\n",
    "\tLICENSE\n",
    "\n",
    "no changes added to commit (use \"git add\" and/or \"git commit -a\")\n",
    "```"
   ]
  },
  {
   "cell_type": "markdown",
   "metadata": {},
   "source": [
    "Git非常清楚地告诉我们，readme.txt被修改了，而LICENSE还从来没有被添加过，所以它的状态是Untracked。\n",
    "\n",
    "现在，使用两次命令`git add`，把readme.txt和LICENSE都添加后，用`git status`再查看一下：\n",
    "```bash\n",
    "$ git status\n",
    "On branch master\n",
    "Changes to be committed:\n",
    "  (use \"git reset HEAD <file>...\" to unstage)\n",
    "\n",
    "\tnew file:   LICENSE\n",
    "\tmodified:   readme.txt\n",
    "```\n",
    "现在，暂存区的状态就变成这样了："
   ]
  },
  {
   "cell_type": "markdown",
   "metadata": {},
   "source": [
    "![](https://tva1.sinaimg.cn/large/008i3skNly1gseabrc771j31jk0e2n1f.jpg)"
   ]
  },
  {
   "cell_type": "markdown",
   "metadata": {},
   "source": [
    "所以，`git add`命令实际上就是把要提交的所有修改放到暂存区（`Stage`），然后，执行`git commit`就可以一次性把暂存区的所有修改提交到分支。\n",
    "```bash\n",
    "$ git commit -m \"understand how stage works\"\n",
    "[master e43a48b] understand how stage works\n",
    " 2 files changed, 2 insertions(+)\n",
    " create mode 100644 LICENSE\n",
    "```"
   ]
  },
  {
   "cell_type": "markdown",
   "metadata": {},
   "source": [
    "一旦提交后，如果你又没有对工作区做任何修改，那么工作区就是“干净”的：\n",
    "```bash\n",
    "$ git status\n",
    "On branch master\n",
    "nothing to commit, working tree clean\n",
    "```\n",
    "现在版本库变成了这样，暂存区就没有任何内容了："
   ]
  },
  {
   "cell_type": "code",
   "execution_count": null,
   "metadata": {},
   "outputs": [],
   "source": []
  }
 ],
 "metadata": {
  "kernelspec": {
   "display_name": "Python 3",
   "language": "python",
   "name": "python3"
  },
  "language_info": {
   "codemirror_mode": {
    "name": "ipython",
    "version": 3
   },
   "file_extension": ".py",
   "mimetype": "text/x-python",
   "name": "python",
   "nbconvert_exporter": "python",
   "pygments_lexer": "ipython3",
   "version": "3.8.3"
  },
  "toc-autonumbering": true
 },
 "nbformat": 4,
 "nbformat_minor": 4
}
